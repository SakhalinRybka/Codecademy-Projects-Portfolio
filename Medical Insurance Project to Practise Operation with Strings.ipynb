{
 "cells": [
  {
   "cell_type": "markdown",
   "id": "a65b7652",
   "metadata": {},
   "source": [
    "## Medical Insurance Project to Practise Operation with Strings"
   ]
  },
  {
   "cell_type": "markdown",
   "id": "c021d9d0",
   "metadata": {},
   "source": [
    "# Input Data"
   ]
  },
  {
   "cell_type": "code",
   "execution_count": 2,
   "id": "9d00cc20",
   "metadata": {},
   "outputs": [],
   "source": [
    "medical_data = \\\n",
    "\"\"\"Marina Allison   ,27   ,   31.1 , \n",
    "#7010.0   ;Markus Valdez   ,   30, \n",
    "22.4,   #4050.0 ;Connie Ballard ,43 \n",
    ",   25.3 , #12060.0 ;Darnell Weber   \n",
    ",   35   , 20.6   , #7500.0;\n",
    "Sylvie Charles   ,22, 22.1 \n",
    ",#3022.0   ;   Vinay Padilla,24,   \n",
    "26.9 ,#4620.0 ;Meredith Santiago, 51   , \n",
    "29.3 ,#16330.0;   Andre Mccarty, \n",
    "19,22.7 , #2900.0 ; \n",
    "Lorena Hodson ,65, 33.1 , #19370.0; \n",
    "Isaac Vu ,34, 24.8,   #7045.0\"\"\""
   ]
  },
  {
   "cell_type": "markdown",
   "id": "18592fd1",
   "metadata": {},
   "source": [
    "# Project Start"
   ]
  },
  {
   "cell_type": "code",
   "execution_count": 3,
   "id": "2f0594c4",
   "metadata": {},
   "outputs": [
    {
     "name": "stdout",
     "output_type": "stream",
     "text": [
      "Marina Allison   ,27   ,   31.1 , \n",
      "#7010.0   ;Markus Valdez   ,   30, \n",
      "22.4,   #4050.0 ;Connie Ballard ,43 \n",
      ",   25.3 , #12060.0 ;Darnell Weber   \n",
      ",   35   , 20.6   , #7500.0;\n",
      "Sylvie Charles   ,22, 22.1 \n",
      ",#3022.0   ;   Vinay Padilla,24,   \n",
      "26.9 ,#4620.0 ;Meredith Santiago, 51   , \n",
      "29.3 ,#16330.0;   Andre Mccarty, \n",
      "19,22.7 , #2900.0 ; \n",
      "Lorena Hodson ,65, 33.1 , #19370.0; \n",
      "Isaac Vu ,34, 24.8,   #7045.0\n"
     ]
    }
   ],
   "source": [
    "print(medical_data)"
   ]
  },
  {
   "cell_type": "markdown",
   "id": "3d91347e",
   "metadata": {},
   "source": [
    "#Replace \"#\" with \"$\""
   ]
  },
  {
   "cell_type": "code",
   "execution_count": 5,
   "id": "9ac8c05b",
   "metadata": {},
   "outputs": [
    {
     "name": "stdout",
     "output_type": "stream",
     "text": [
      "Marina Allison   ,27   ,   31.1 , \n",
      "$7010.0   ;Markus Valdez   ,   30, \n",
      "22.4,   $4050.0 ;Connie Ballard ,43 \n",
      ",   25.3 , $12060.0 ;Darnell Weber   \n",
      ",   35   , 20.6   , $7500.0;\n",
      "Sylvie Charles   ,22, 22.1 \n",
      ",$3022.0   ;   Vinay Padilla,24,   \n",
      "26.9 ,$4620.0 ;Meredith Santiago, 51   , \n",
      "29.3 ,$16330.0;   Andre Mccarty, \n",
      "19,22.7 , $2900.0 ; \n",
      "Lorena Hodson ,65, 33.1 , $19370.0; \n",
      "Isaac Vu ,34, 24.8,   $7045.0\n"
     ]
    }
   ],
   "source": [
    "updated_medical_data = medical_data.replace('#', '$')\n",
    "print(updated_medical_data)"
   ]
  },
  {
   "cell_type": "markdown",
   "id": "34040fa9",
   "metadata": {},
   "source": [
    "#Counting quantity of \"$\""
   ]
  },
  {
   "cell_type": "code",
   "execution_count": 7,
   "id": "296f1e65",
   "metadata": {},
   "outputs": [
    {
     "name": "stdout",
     "output_type": "stream",
     "text": [
      "There are 10 medical records in the data.\n"
     ]
    }
   ],
   "source": [
    "num_records = 0\n",
    "for i in updated_medical_data:\n",
    "  if i == '$':\n",
    "    num_records += 1\n",
    "print(\"There are \" + str(num_records) + \" medical records in the data.\")"
   ]
  },
  {
   "cell_type": "markdown",
   "id": "dff9e6be",
   "metadata": {},
   "source": [
    "#Create a List and split the data bei \";\""
   ]
  },
  {
   "cell_type": "code",
   "execution_count": 8,
   "id": "66aef276",
   "metadata": {
    "scrolled": true
   },
   "outputs": [
    {
     "name": "stdout",
     "output_type": "stream",
     "text": [
      "['Marina Allison   ,27   ,   31.1 , \\n$7010.0   ', 'Markus Valdez   ,   30, \\n22.4,   $4050.0 ', 'Connie Ballard ,43 \\n,   25.3 , $12060.0 ', 'Darnell Weber   \\n,   35   , 20.6   , $7500.0', '\\nSylvie Charles   ,22, 22.1 \\n,$3022.0   ', '   Vinay Padilla,24,   \\n26.9 ,$4620.0 ', 'Meredith Santiago, 51   , \\n29.3 ,$16330.0', '   Andre Mccarty, \\n19,22.7 , $2900.0 ', ' \\nLorena Hodson ,65, 33.1 , $19370.0', ' \\nIsaac Vu ,34, 24.8,   $7045.0']\n"
     ]
    }
   ],
   "source": [
    "medical_data_split = updated_medical_data.split(';')\n",
    "print(medical_data_split)"
   ]
  },
  {
   "cell_type": "markdown",
   "id": "09fb9716",
   "metadata": {},
   "source": [
    "#Create the List of Lists"
   ]
  },
  {
   "cell_type": "code",
   "execution_count": 9,
   "id": "dd702a9e",
   "metadata": {},
   "outputs": [
    {
     "name": "stdout",
     "output_type": "stream",
     "text": [
      "[['Marina Allison   ', '27   ', '   31.1 ', ' \\n$7010.0   '], ['Markus Valdez   ', '   30', ' \\n22.4', '   $4050.0 '], ['Connie Ballard ', '43 \\n', '   25.3 ', ' $12060.0 '], ['Darnell Weber   \\n', '   35   ', ' 20.6   ', ' $7500.0'], ['\\nSylvie Charles   ', '22', ' 22.1 \\n', '$3022.0   '], ['   Vinay Padilla', '24', '   \\n26.9 ', '$4620.0 '], ['Meredith Santiago', ' 51   ', ' \\n29.3 ', '$16330.0'], ['   Andre Mccarty', ' \\n19', '22.7 ', ' $2900.0 '], [' \\nLorena Hodson ', '65', ' 33.1 ', ' $19370.0'], [' \\nIsaac Vu ', '34', ' 24.8', '   $7045.0']]\n"
     ]
    }
   ],
   "source": [
    "medical_records = []\n",
    "for each_record in medical_data_split:\n",
    "  medical_records.append(each_record.split(','))\n",
    "print(medical_records)"
   ]
  },
  {
   "cell_type": "markdown",
   "id": "5518f96f",
   "metadata": {},
   "source": [
    "#Data cleaning"
   ]
  },
  {
   "cell_type": "code",
   "execution_count": 10,
   "id": "00e58ba3",
   "metadata": {},
   "outputs": [
    {
     "name": "stdout",
     "output_type": "stream",
     "text": [
      "[['Marina Allison', '27', '31.1', '$7010.0'], ['Markus Valdez', '30', '22.4', '$4050.0'], ['Connie Ballard', '43', '25.3', '$12060.0'], ['Darnell Weber', '35', '20.6', '$7500.0'], ['Sylvie Charles', '22', '22.1', '$3022.0'], ['Vinay Padilla', '24', '26.9', '$4620.0'], ['Meredith Santiago', '51', '29.3', '$16330.0'], ['Andre Mccarty', '19', '22.7', '$2900.0'], ['Lorena Hodson', '65', '33.1', '$19370.0'], ['Isaac Vu', '34', '24.8', '$7045.0']]\n"
     ]
    }
   ],
   "source": [
    "medical_records_clean = []\n",
    "for record in medical_records:\n",
    "  record_clean = []\n",
    "  for item in record:\n",
    "    record_clean.append(item.strip())\n",
    "  medical_records_clean.append(record_clean)\n",
    "print(medical_records_clean)"
   ]
  },
  {
   "cell_type": "markdown",
   "id": "41a8d1fd",
   "metadata": {},
   "source": [
    "#Uppercase test"
   ]
  },
  {
   "cell_type": "code",
   "execution_count": 11,
   "id": "273c857d",
   "metadata": {},
   "outputs": [
    {
     "name": "stdout",
     "output_type": "stream",
     "text": [
      "MARINA ALLISON\n",
      "MARKUS VALDEZ\n",
      "CONNIE BALLARD\n",
      "DARNELL WEBER\n",
      "SYLVIE CHARLES\n",
      "VINAY PADILLA\n",
      "MEREDITH SANTIAGO\n",
      "ANDRE MCCARTY\n",
      "LORENA HODSON\n",
      "ISAAC VU\n"
     ]
    }
   ],
   "source": [
    "for record in medical_records_clean:\n",
    "  record[0] = record[0].upper()\n",
    "  print(record[0])"
   ]
  },
  {
   "cell_type": "markdown",
   "id": "91de93b9",
   "metadata": {},
   "source": [
    "#List separation"
   ]
  },
  {
   "cell_type": "code",
   "execution_count": 13,
   "id": "161aaf66",
   "metadata": {},
   "outputs": [
    {
     "name": "stdout",
     "output_type": "stream",
     "text": [
      "['MARINA ALLISON', 'MARKUS VALDEZ', 'CONNIE BALLARD', 'DARNELL WEBER', 'SYLVIE CHARLES', 'VINAY PADILLA', 'MEREDITH SANTIAGO', 'ANDRE MCCARTY', 'LORENA HODSON', 'ISAAC VU']\n",
      "------\n",
      "['27', '30', '43', '35', '22', '24', '51', '19', '65', '34']\n",
      "------\n",
      "['31.1', '22.4', '25.3', '20.6', '22.1', '26.9', '29.3', '22.7', '33.1', '24.8']\n",
      "------\n",
      "['$7010.0', '$4050.0', '$12060.0', '$7500.0', '$3022.0', '$4620.0', '$16330.0', '$2900.0', '$19370.0', '$7045.0']\n"
     ]
    }
   ],
   "source": [
    "names = []\n",
    "ages = []\n",
    "bmis = []\n",
    "insurance_costs = []\n",
    "\n",
    "for data in medical_records_clean:\n",
    "  names.append(data[0])\n",
    "  ages.append(data[1])\n",
    "  bmis.append(data[2])\n",
    "  insurance_costs.append(data[3])\n",
    "\n",
    "print(names)\n",
    "print('------')\n",
    "print(ages)\n",
    "print('------')\n",
    "print(bmis)\n",
    "print('------')\n",
    "print(insurance_costs)"
   ]
  },
  {
   "cell_type": "markdown",
   "id": "b9cf72ce",
   "metadata": {},
   "source": [
    "#Average BMI counting"
   ]
  },
  {
   "cell_type": "code",
   "execution_count": 16,
   "id": "eb21ff37",
   "metadata": {},
   "outputs": [
    {
     "name": "stdout",
     "output_type": "stream",
     "text": [
      "Average BMI: 25.830000000000002\n"
     ]
    }
   ],
   "source": [
    "total_bmi = 0\n",
    "for bmi in bmis:\n",
    "  total_bmi += float(bmi)\n",
    "average_bmi = total_bmi / len(bmis)\n",
    "print(\"Average BMI: \" + str(average_bmi))"
   ]
  },
  {
   "cell_type": "markdown",
   "id": "f71b0c49",
   "metadata": {},
   "source": [
    "#Average insurance Costs counting"
   ]
  },
  {
   "cell_type": "code",
   "execution_count": 17,
   "id": "a98bdd30",
   "metadata": {},
   "outputs": [
    {
     "name": "stdout",
     "output_type": "stream",
     "text": [
      "Average Insurance Costs: 8390.7\n"
     ]
    }
   ],
   "source": [
    "clean_insurance_cost = []\n",
    "for insurance_cost in insurance_costs:\n",
    "  clean_insurance_cost.append(insurance_cost.replace('$',''))\n",
    "#print(clean_insurance_cost)\n",
    "\n",
    "total_insurance_costs = 0\n",
    "for insurance_cost in clean_insurance_cost:\n",
    "  total_insurance_costs += float(insurance_cost)\n",
    "average_insurance_costs = total_insurance_costs / len(clean_insurance_cost)\n",
    "print(\"Average Insurance Costs: \" + str(average_insurance_costs))"
   ]
  },
  {
   "cell_type": "markdown",
   "id": "2be5306c",
   "metadata": {},
   "source": [
    "# The Report Generation "
   ]
  },
  {
   "cell_type": "code",
   "execution_count": 20,
   "id": "293c2c5f",
   "metadata": {},
   "outputs": [
    {
     "name": "stdout",
     "output_type": "stream",
     "text": [
      "1. MARINA ALLISON is 27 years old with a BMI of 31.1 and an insurance cost of $7010.0.\n",
      "\n",
      "2. MARKUS VALDEZ is 30 years old with a BMI of 22.4 and an insurance cost of $4050.0.\n",
      "\n",
      "3. CONNIE BALLARD is 43 years old with a BMI of 25.3 and an insurance cost of $12060.0.\n",
      "\n",
      "4. DARNELL WEBER is 35 years old with a BMI of 20.6 and an insurance cost of $7500.0.\n",
      "\n",
      "5. SYLVIE CHARLES is 22 years old with a BMI of 22.1 and an insurance cost of $3022.0.\n",
      "\n",
      "6. VINAY PADILLA is 24 years old with a BMI of 26.9 and an insurance cost of $4620.0.\n",
      "\n",
      "7. MEREDITH SANTIAGO is 51 years old with a BMI of 29.3 and an insurance cost of $16330.0.\n",
      "\n",
      "8. ANDRE MCCARTY is 19 years old with a BMI of 22.7 and an insurance cost of $2900.0.\n",
      "\n",
      "9. LORENA HODSON is 65 years old with a BMI of 33.1 and an insurance cost of $19370.0.\n",
      "\n",
      "10. ISAAC VU is 34 years old with a BMI of 24.8 and an insurance cost of $7045.0.\n",
      "\n"
     ]
    }
   ],
   "source": [
    "count = 0\n",
    "for data in medical_records_clean:\n",
    "  count += 1\n",
    "  print(str(count) + \". \" + data[0] + \" is \" + data[1] + \" years old with a BMI of \" + data[2] + \" and an insurance cost of \" + data[3] +\".\" + \"\\n\")"
   ]
  },
  {
   "cell_type": "code",
   "execution_count": null,
   "id": "245c5e3f",
   "metadata": {},
   "outputs": [],
   "source": []
  }
 ],
 "metadata": {
  "kernelspec": {
   "display_name": "Python 3 (ipykernel)",
   "language": "python",
   "name": "python3"
  },
  "language_info": {
   "codemirror_mode": {
    "name": "ipython",
    "version": 3
   },
   "file_extension": ".py",
   "mimetype": "text/x-python",
   "name": "python",
   "nbconvert_exporter": "python",
   "pygments_lexer": "ipython3",
   "version": "3.9.12"
  }
 },
 "nbformat": 4,
 "nbformat_minor": 5
}
